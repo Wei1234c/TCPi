{
 "cells": [
  {
   "cell_type": "markdown",
   "metadata": {},
   "source": [
    "# TCPi Client Test"
   ]
  },
  {
   "cell_type": "code",
   "execution_count": 1,
   "metadata": {},
   "outputs": [],
   "source": [
    "from pathfinder import Pathfinder\n",
    "\n",
    "# abs_paths = ['']\n",
    "# Pathfinder.relative_paths_from_abs(abs_paths)"
   ]
  },
  {
   "cell_type": "code",
   "execution_count": 2,
   "metadata": {},
   "outputs": [],
   "source": [
    "relative_paths = [['..', '..', '..', '..', '..', '..', '已完成', 'Bridges', 'bitbucket', 'github', 'codes'],\n",
    "                  ['..', '..', '..', '..', '..', 'SigmaDSP', 'bitbucket', 'github', 'codes'],\n",
    "                  ['..', '..', '..', '..', '..', 'Utilities', 'bitbucket', 'github', 'codes'],\n",
    "                  ['..', '..', 'codes']]\n",
    "\n",
    "Pathfinder.append_relative_paths(relative_paths)"
   ]
  },
  {
   "cell_type": "code",
   "execution_count": 3,
   "metadata": {},
   "outputs": [],
   "source": [
    "import threading\n",
    "import time\n",
    "\n",
    "from bridges.ftdi.controllers.i2c import I2cController\n",
    "from sigma.bus import adapters\n",
    "from tcpi.bus.tcpi_client import I2C as TcpI2C_client\n",
    "from tcpi.bus.tcpi_server import I2C as TcpI2C_server\n",
    "from tcpi.protocols.TCPIP1701 import class_finder"
   ]
  },
  {
   "cell_type": "code",
   "execution_count": 4,
   "metadata": {},
   "outputs": [],
   "source": [
    "import pandas as pd\n",
    "\n",
    "#https://thispointer.com/python-pandas-how-to-display-full-dataframe-i-e-print-all-rows-columns-without-truncation/\n",
    "pd.set_option('display.max_rows', None)\n",
    "# pd.set_option('display.max_columns', None)\n",
    "# pd.set_option('display.width', None)\n",
    "# pd.set_option('display.max_colwidth', -1)"
   ]
  },
  {
   "cell_type": "markdown",
   "metadata": {},
   "source": [
    "## TCPi client / server test"
   ]
  },
  {
   "cell_type": "code",
   "execution_count": 5,
   "metadata": {},
   "outputs": [],
   "source": [
    "with_hardware_device = True\n",
    "\n",
    "if with_hardware_device:\n",
    "    ctrl = I2cController()\n",
    "    _i2c = ctrl.I2C()\n",
    "\n",
    "else:\n",
    "    _i2c = None  # using None for testing without actual hardware device.\n",
    "\n",
    "bus = adapters.I2C(i2c = _i2c)"
   ]
  },
  {
   "cell_type": "markdown",
   "metadata": {},
   "source": [
    "### Server"
   ]
  },
  {
   "cell_type": "code",
   "execution_count": 6,
   "metadata": {},
   "outputs": [
    {
     "name": "stdout",
     "output_type": "stream",
     "text": [
      "('192.168.0.168', 8086)\n",
      "\n",
      "[Server waiting for connection.]\n"
     ]
    }
   ],
   "source": [
    "tcpi_server = TcpI2C_server(bus, class_finder, i2c_addresses = {1: 0x68 >> 1, 2: 0xA0 >> 1})\n",
    "print(tcpi_server.ip_address)\n",
    "t_server = threading.Thread(target = tcpi_server.run)\n",
    "t_server.start()\n",
    "time.sleep(1)"
   ]
  },
  {
   "cell_type": "markdown",
   "metadata": {},
   "source": [
    "### Client"
   ]
  },
  {
   "cell_type": "code",
   "execution_count": 7,
   "metadata": {},
   "outputs": [
    {
     "name": "stdout",
     "output_type": "stream",
     "text": [
      "\n",
      "[Connecting server: ('192.168.0.168', 8086)]\n",
      "\n",
      "[Connected with server: ('192.168.0.168', 8086)]\n",
      "\n",
      "[Connect from client ('192.168.0.168', 61121) established.]\n"
     ]
    }
   ],
   "source": [
    "# client ====================================\n",
    "tcpi_client = TcpI2C_client(class_finder)\n",
    "tcpi_client.connect(*tcpi_server.ip_address)\n",
    "time.sleep(1)"
   ]
  },
  {
   "cell_type": "markdown",
   "metadata": {},
   "source": [
    "### Write / Read"
   ]
  },
  {
   "cell_type": "code",
   "execution_count": 8,
   "metadata": {},
   "outputs": [
    {
     "name": "stdout",
     "output_type": "stream",
     "text": [
      "\n",
      "[Server receiving: 14 bytes of data.]\n",
      "[9, 1, 0, 0, 14, 52, 0, 4, 0, 8, 0, 0, 0, 1]\n",
      "\n",
      "<< Write >>          \n",
      "[ Control ]        :  9\n",
      "[ Safeload ]       :  1\n",
      "[ Channel_number ] :  0\n",
      "[ Total_length ]   :  14\n",
      "[ Chip_address ]   :  52\n",
      "[ Data_length ]    :  4\n",
      "[ Address ]        :  8\n",
      "[ Data ]           :  [0, 0, 0, 1]\n",
      "[ Data in Hex ]    :  ['0x0', '0x0', '0x0', '0x1']\n"
     ]
    }
   ],
   "source": [
    "tcpi_client.write_addressed_bytes(i2c_address = 0x34, sub_address = 0x08, bytes_array = bytes([0, 0, 0, 1]))"
   ]
  },
  {
   "cell_type": "code",
   "execution_count": 9,
   "metadata": {},
   "outputs": [
    {
     "name": "stdout",
     "output_type": "stream",
     "text": [
      "\n",
      "[Server receiving: 8 bytes of data.]\n",
      "[10, 0, 8, 52, 0, 4, 0, 8]\n",
      "\n",
      "<< ReadRequest >>  \n",
      "[ Control ]      :  10\n",
      "[ Total_length ] :  8\n",
      "[ Chip_address ] :  52\n",
      "[ Data_length ]  :  4\n",
      "[ Address ]      :  8\n",
      "\n",
      "<< ReadResponse >> \n",
      "[ Control ]      :  11\n",
      "[ Total_length ] :  13\n",
      "[ Chip_address ] :  52\n",
      "[ Data_length ]  :  4\n",
      "[ Address ]      :  8\n",
      "[ Success ]      :  0\n",
      "[ Data ]         :  [0, 0, 0, 1]\n",
      "[ Data in Hex ]  :  ['0x0', '0x0', '0x0', '0x1']\n",
      "b'\\x00\\x00\\x00\\x01'\n"
     ]
    }
   ],
   "source": [
    "print(tcpi_client.read_addressed_bytes(i2c_address = 0x34, sub_address = 0x08, n_bytes = 4))"
   ]
  },
  {
   "cell_type": "markdown",
   "metadata": {},
   "source": [
    "### Write / Read"
   ]
  },
  {
   "cell_type": "code",
   "execution_count": 10,
   "metadata": {},
   "outputs": [
    {
     "name": "stdout",
     "output_type": "stream",
     "text": [
      "\n",
      "[Server receiving: 14 bytes of data.]\n",
      "[9, 1, 0, 0, 14, 52, 0, 4, 0, 8, 0, 0, 0, 2]\n",
      "\n",
      "<< Write >>          \n",
      "[ Control ]        :  9\n",
      "[ Safeload ]       :  1\n",
      "[ Channel_number ] :  0\n",
      "[ Total_length ]   :  14\n",
      "[ Chip_address ]   :  52\n",
      "[ Data_length ]    :  4\n",
      "[ Address ]        :  8\n",
      "[ Data ]           :  [0, 0, 0, 2]\n",
      "[ Data in Hex ]    :  ['0x0', '0x0', '0x0', '0x2']\n"
     ]
    }
   ],
   "source": [
    "tcpi_client.write_addressed_bytes(i2c_address = 0x34, sub_address = 0x08, bytes_array = bytes([0, 0, 0, 2]))"
   ]
  },
  {
   "cell_type": "code",
   "execution_count": 11,
   "metadata": {
    "scrolled": true
   },
   "outputs": [
    {
     "name": "stdout",
     "output_type": "stream",
     "text": [
      "\n",
      "[Server receiving: 8 bytes of data.]\n",
      "[10, 0, 8, 52, 0, 4, 0, 8]\n",
      "\n",
      "<< ReadRequest >>  \n",
      "[ Control ]      :  10\n",
      "[ Total_length ] :  8\n",
      "[ Chip_address ] :  52\n",
      "[ Data_length ]  :  4\n",
      "[ Address ]      :  8\n",
      "\n",
      "<< ReadResponse >> \n",
      "[ Control ]      :  11\n",
      "[ Total_length ] :  13\n",
      "[ Chip_address ] :  52\n",
      "[ Data_length ]  :  4\n",
      "[ Address ]      :  8\n",
      "[ Success ]      :  0\n",
      "[ Data ]         :  [0, 0, 0, 2]\n",
      "[ Data in Hex ]  :  ['0x0', '0x0', '0x0', '0x2']\n",
      "b'\\x00\\x00\\x00\\x02'\n"
     ]
    }
   ],
   "source": [
    "print(tcpi_client.read_addressed_bytes(i2c_address = 0x34, sub_address = 0x08, n_bytes = 4))"
   ]
  },
  {
   "cell_type": "markdown",
   "metadata": {},
   "source": [
    "### Write / Read"
   ]
  },
  {
   "cell_type": "code",
   "execution_count": 12,
   "metadata": {},
   "outputs": [
    {
     "name": "stdout",
     "output_type": "stream",
     "text": [
      "\n",
      "[Server receiving: 14 bytes of data.]\n",
      "[9, 1, 0, 0, 14, 52, 0, 4, 0, 8, 0, 0, 0, 0]\n",
      "\n",
      "<< Write >>          \n",
      "[ Control ]        :  9\n",
      "[ Safeload ]       :  1\n",
      "[ Channel_number ] :  0\n",
      "[ Total_length ]   :  14\n",
      "[ Chip_address ]   :  52\n",
      "[ Data_length ]    :  4\n",
      "[ Address ]        :  8\n",
      "[ Data ]           :  [0, 0, 0, 0]\n",
      "[ Data in Hex ]    :  ['0x0', '0x0', '0x0', '0x0']\n"
     ]
    }
   ],
   "source": [
    "tcpi_client.write_addressed_bytes(i2c_address = 0x34, sub_address = 0x08, bytes_array = bytes([0, 0, 0, 0]))"
   ]
  },
  {
   "cell_type": "code",
   "execution_count": 13,
   "metadata": {
    "scrolled": true
   },
   "outputs": [
    {
     "name": "stdout",
     "output_type": "stream",
     "text": [
      "\n",
      "[Server receiving: 8 bytes of data.]\n",
      "[10, 0, 8, 52, 0, 4, 0, 8]\n",
      "\n",
      "<< ReadRequest >>  \n",
      "[ Control ]      :  10\n",
      "[ Total_length ] :  8\n",
      "[ Chip_address ] :  52\n",
      "[ Data_length ]  :  4\n",
      "[ Address ]      :  8\n",
      "\n",
      "<< ReadResponse >> \n",
      "[ Control ]      :  11\n",
      "[ Total_length ] :  13\n",
      "[ Chip_address ] :  52\n",
      "[ Data_length ]  :  4\n",
      "[ Address ]      :  8\n",
      "[ Success ]      :  0\n",
      "[ Data ]         :  [0, 0, 0, 0]\n",
      "[ Data in Hex ]  :  ['0x0', '0x0', '0x0', '0x0']\n",
      "b'\\x00\\x00\\x00\\x00'\n"
     ]
    }
   ],
   "source": [
    "print(tcpi_client.read_addressed_bytes(i2c_address = 0x34, sub_address = 0x08, n_bytes = 4))"
   ]
  },
  {
   "cell_type": "code",
   "execution_count": 14,
   "metadata": {
    "scrolled": true
   },
   "outputs": [
    {
     "name": "stdout",
     "output_type": "stream",
     "text": [
      "\n",
      "[Client set to stop.]\n",
      "\n",
      "[Connection with client ('192.168.0.168', 61121) is closed.]\n"
     ]
    }
   ],
   "source": [
    "tcpi_client.stop() "
   ]
  },
  {
   "cell_type": "code",
   "execution_count": 15,
   "metadata": {},
   "outputs": [
    {
     "name": "stdout",
     "output_type": "stream",
     "text": [
      "\n",
      "[Server set to stop ]\n",
      "\n",
      "[Connection with client ('192.168.0.168', 61121) is closed.]\n",
      "[WinError 10038] 嘗試操作的對象不是通訊端。\n"
     ]
    }
   ],
   "source": [
    "tcpi_server.stop()\n",
    "t_server.join()"
   ]
  }
 ],
 "metadata": {
  "kernelspec": {
   "display_name": "Python 3 (ipykernel)",
   "language": "python",
   "name": "python3"
  },
  "language_info": {
   "codemirror_mode": {
    "name": "ipython",
    "version": 3
   },
   "file_extension": ".py",
   "mimetype": "text/x-python",
   "name": "python",
   "nbconvert_exporter": "python",
   "pygments_lexer": "ipython3",
   "version": "3.8.12"
  }
 },
 "nbformat": 4,
 "nbformat_minor": 2
}
