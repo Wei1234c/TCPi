{
 "cells": [
  {
   "cell_type": "markdown",
   "metadata": {},
   "source": [
    "# TCPi Server Test"
   ]
  },
  {
   "cell_type": "code",
   "execution_count": 1,
   "metadata": {},
   "outputs": [],
   "source": [
    "from pathfinder import Pathfinder\n",
    "\n",
    "# abs_paths = ['']\n",
    "# Pathfinder.relative_paths_from_abs(abs_paths)\n",
    "\n",
    "relative_paths = [['..', '..', '..', '..', '..', '..', '已完成', 'Bridges', 'bitbucket', 'github', 'codes'],\n",
    "                  ['..', '..', '..', '..', '..', 'SigmaDSP', 'bitbucket', 'github', 'codes'],\n",
    "                  ['..', '..', '..', '..', '..', 'Utilities', 'bitbucket', 'github', 'codes'],\n",
    "                  ['..', '..', 'codes']]\n",
    "\n",
    "Pathfinder.append_relative_paths(relative_paths)"
   ]
  },
  {
   "cell_type": "code",
   "execution_count": 2,
   "metadata": {},
   "outputs": [],
   "source": [
    "import threading\n",
    "\n",
    "from bridges.ftdi.controllers.i2c import I2cController\n",
    "from sigma.bus import adapters\n",
    "from tcpi.bus.tcpi_server import I2C as TcpI2C\n",
    "from tcpi.protocols.TCPIP1701 import class_finder"
   ]
  },
  {
   "cell_type": "code",
   "execution_count": 3,
   "metadata": {},
   "outputs": [],
   "source": [
    "import pandas as pd\n",
    "\n",
    "#https://thispointer.com/python-pandas-how-to-display-full-dataframe-i-e-print-all-rows-columns-without-truncation/\n",
    "pd.set_option('display.max_rows', None)\n",
    "# pd.set_option('display.max_columns', None)\n",
    "# pd.set_option('display.width', None)\n",
    "# pd.set_option('display.max_colwidth', -1)"
   ]
  },
  {
   "cell_type": "markdown",
   "metadata": {},
   "source": [
    "## TCPi server test"
   ]
  },
  {
   "cell_type": "code",
   "execution_count": 4,
   "metadata": {},
   "outputs": [
    {
     "name": "stdout",
     "output_type": "stream",
     "text": [
      "\n",
      "****** Virtual device. Data may not be real ! ******\n",
      "\n"
     ]
    }
   ],
   "source": [
    "with_hardware_device = False\n",
    "\n",
    "if with_hardware_device:\n",
    "    ctrl = I2cController()\n",
    "    _i2c = ctrl.I2C()\n",
    "\n",
    "else:\n",
    "    _i2c = None  # using None for testing without actual hardware device.\n",
    "\n",
    "bus = adapters.I2C(i2c = _i2c)"
   ]
  },
  {
   "cell_type": "code",
   "execution_count": 5,
   "metadata": {},
   "outputs": [],
   "source": [
    "tcpi_server = TcpI2C(bus, class_finder, i2c_addresses = {1: 0x68 >> 1})\n",
    "# tcpi_server.run()"
   ]
  },
  {
   "cell_type": "code",
   "execution_count": 6,
   "metadata": {
    "scrolled": true
   },
   "outputs": [
    {
     "name": "stdout",
     "output_type": "stream",
     "text": [
      "\n",
      "[Server waiting for connection.]\n",
      "\n",
      "[Connect from client ('192.168.0.168', 57804) established.]\n",
      "\n",
      "[Connection with client ('192.168.0.168', 57804) is closed.]\n",
      "\n",
      "[Connect from client ('192.168.0.168', 57805) established.]\n",
      "\n",
      "[Server receiving: 14 bytes of data.]\n",
      "[9, 0, 0, 0, 14, 1, 0, 4, 0, 8, 0, 0, 0, 1]\n",
      "\n",
      "<< Write >>          :  ('0x24', '0b100100')\n",
      "[ Control ]        :  9\n",
      "[ Safeload ]       :  0\n",
      "[ Channel_number ] :  0\n",
      "[ Total_length ]   :  14\n",
      "[ Chip_address ]   :  1\n",
      "[ Data_length ]    :  4\n",
      "[ Address ]        :  8\n",
      "[ Data ]           :  [0, 0, 0, 1]\n",
      "[ Data in Hex ]    :  ['0x0', '0x0', '0x0', '0x1']\n",
      "\n",
      "[Server receiving: 14 bytes of data.]\n",
      "[9, 0, 0, 0, 14, 1, 0, 4, 0, 8, 0, 0, 0, 0]\n",
      "\n",
      "<< Write >>          :  ('0x24', '0b100100')\n",
      "[ Control ]        :  9\n",
      "[ Safeload ]       :  0\n",
      "[ Channel_number ] :  0\n",
      "[ Total_length ]   :  14\n",
      "[ Chip_address ]   :  1\n",
      "[ Data_length ]    :  4\n",
      "[ Address ]        :  8\n",
      "[ Data ]           :  [0, 0, 0, 0]\n",
      "[ Data in Hex ]    :  ['0x0', '0x0', '0x0', '0x0']\n",
      "\n",
      "[Server receiving: 14 bytes of data.]\n",
      "[9, 0, 0, 0, 14, 1, 0, 4, 0, 8, 0, 0, 0, 1]\n",
      "\n",
      "<< Write >>          :  ('0x24', '0b100100')\n",
      "[ Control ]        :  9\n",
      "[ Safeload ]       :  0\n",
      "[ Channel_number ] :  0\n",
      "[ Total_length ]   :  14\n",
      "[ Chip_address ]   :  1\n",
      "[ Data_length ]    :  4\n",
      "[ Address ]        :  8\n",
      "[ Data ]           :  [0, 0, 0, 1]\n",
      "[ Data in Hex ]    :  ['0x0', '0x0', '0x0', '0x1']\n",
      "\n",
      "[Server receiving: 14 bytes of data.]\n",
      "[9, 0, 0, 0, 14, 1, 0, 4, 0, 8, 0, 0, 0, 2]\n",
      "\n",
      "<< Write >>          :  ('0x24', '0b100100')\n",
      "[ Control ]        :  9\n",
      "[ Safeload ]       :  0\n",
      "[ Channel_number ] :  0\n",
      "[ Total_length ]   :  14\n",
      "[ Chip_address ]   :  1\n",
      "[ Data_length ]    :  4\n",
      "[ Address ]        :  8\n",
      "[ Data ]           :  [0, 0, 0, 2]\n",
      "[ Data in Hex ]    :  ['0x0', '0x0', '0x0', '0x2']\n",
      "\n",
      "[Server receiving: 14 bytes of data.]\n",
      "[9, 0, 0, 0, 14, 1, 0, 4, 0, 8, 0, 0, 0, 0]\n",
      "\n",
      "<< Write >>          :  ('0x24', '0b100100')\n",
      "[ Control ]        :  9\n",
      "[ Safeload ]       :  0\n",
      "[ Channel_number ] :  0\n",
      "[ Total_length ]   :  14\n",
      "[ Chip_address ]   :  1\n",
      "[ Data_length ]    :  4\n",
      "[ Address ]        :  8\n",
      "[ Data ]           :  [0, 0, 0, 0]\n",
      "[ Data in Hex ]    :  ['0x0', '0x0', '0x0', '0x0']\n",
      "\n",
      "[Server receiving: 14 bytes of data.]\n",
      "[9, 0, 0, 0, 14, 1, 0, 4, 0, 8, 0, 0, 0, 1]\n",
      "\n",
      "<< Write >>          :  ('0x24', '0b100100')\n",
      "[ Control ]        :  9\n",
      "[ Safeload ]       :  0\n",
      "[ Channel_number ] :  0\n",
      "[ Total_length ]   :  14\n",
      "[ Chip_address ]   :  1\n",
      "[ Data_length ]    :  4\n",
      "[ Address ]        :  8\n",
      "[ Data ]           :  [0, 0, 0, 1]\n",
      "[ Data in Hex ]    :  ['0x0', '0x0', '0x0', '0x1']\n",
      "\n",
      "[Server receiving: 14 bytes of data.]\n",
      "[9, 0, 0, 0, 14, 1, 0, 4, 0, 8, 0, 0, 0, 2]\n",
      "\n",
      "<< Write >>          :  ('0x24', '0b100100')\n",
      "[ Control ]        :  9\n",
      "[ Safeload ]       :  0\n",
      "[ Channel_number ] :  0\n",
      "[ Total_length ]   :  14\n",
      "[ Chip_address ]   :  1\n",
      "[ Data_length ]    :  4\n",
      "[ Address ]        :  8\n",
      "[ Data ]           :  [0, 0, 0, 2]\n",
      "[ Data in Hex ]    :  ['0x0', '0x0', '0x0', '0x2']\n"
     ]
    }
   ],
   "source": [
    "t_server = threading.Thread(target = tcpi_server.run)\n",
    "t_server.start()"
   ]
  },
  {
   "cell_type": "code",
   "execution_count": 7,
   "metadata": {},
   "outputs": [
    {
     "name": "stdout",
     "output_type": "stream",
     "text": [
      "\n",
      "[Server set to stop ]\n",
      "<ConnectionAbortedError> : [WinError 10053] 連線已被您主機上的軟體中止。\n",
      "\n",
      "[Connection with client ('192.168.0.168', 57805) is closed.]\n"
     ]
    }
   ],
   "source": [
    "tcpi_server.stop()\n",
    "t_server.join()"
   ]
  }
 ],
 "metadata": {
  "kernelspec": {
   "display_name": "Python 3 (ipykernel)",
   "language": "python",
   "name": "python3"
  },
  "language_info": {
   "codemirror_mode": {
    "name": "ipython",
    "version": 3
   },
   "file_extension": ".py",
   "mimetype": "text/x-python",
   "name": "python",
   "nbconvert_exporter": "python",
   "pygments_lexer": "ipython3",
   "version": "3.8.12"
  }
 },
 "nbformat": 4,
 "nbformat_minor": 2
}
