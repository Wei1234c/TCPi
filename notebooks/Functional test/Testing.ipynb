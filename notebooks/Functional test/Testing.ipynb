{
 "cells": [
  {
   "cell_type": "markdown",
   "metadata": {},
   "source": [
    "# Testing"
   ]
  },
  {
   "cell_type": "code",
   "execution_count": 184,
   "metadata": {},
   "outputs": [
    {
     "name": "stdout",
     "output_type": "stream",
     "text": [
      "\n",
      "[Connecting server: ('192.168.0.13', 8086)]\n",
      "\n",
      "[Connected with server: ('192.168.0.13', 8086)]\n"
     ]
    }
   ],
   "source": [
    "from pathfinder import Pathfinder\n",
    "\n",
    "# abs_paths = [' ']\n",
    "# Pathfinder.relative_paths_from_abs(abs_paths)\n",
    " \n",
    "relative_paths = [['..', '..', '..', '..', '..', '..', '已完成', 'Bridges', 'bitbucket', 'github', 'codes'],\n",
    "                  ['..', '..', '..', '..', '..', 'SigmaDSP', 'bitbucket', 'github', 'codes'],\n",
    "                  ['..', '..', '..', '..', '..', 'Signal Generators', 'bitbucket', 'github', 'codes'],\n",
    "                  ['..', '..', '..', '..', '..', 'Utilities', 'bitbucket', 'github', 'codes'],\n",
    "                  ['..', '..', 'codes']] \n",
    "\n",
    "Pathfinder.append_relative_paths(relative_paths)\n",
    "# =====================================================\n",
    "\n",
    "import pandas as pd\n",
    "\n",
    "#https://thispointer.com/python-pandas-how-to-display-full-dataframe-i-e-print-all-rows-columns-without-truncation/\n",
    "pd.set_option('display.max_rows', None)\n",
    "# pd.set_option('display.max_columns', None)\n",
    "# pd.set_option('display.width', None)\n",
    "# pd.set_option('display.max_colwidth', -1)\n",
    "# =====================================================\n",
    "\n",
    "## TCPi\n",
    "\n",
    "import time\n",
    "import threading\n",
    "\n",
    "from tcpi.protocols.TCPIP1701 import class_finder\n",
    "# =====================================================\n",
    "\n",
    "### Client\n",
    "\n",
    "from tcpi.bus.tcpi_client import I2C as TcpI2C_client\n",
    "\n",
    "tcpi_client = TcpI2C_client(class_finder)\n",
    "tcpi_client.connect(server_ip = '192.168.0.13', server_port = 8086)\n",
    "# tcpi_client.connect(server_ip = '127.0.0.1', server_port = 8086)\n",
    "time.sleep(1)\n",
    "# =====================================================\n",
    "\n",
    "## DSP processor\n",
    "\n",
    "from sigma.sigma_dsp.adau import ADAU1401\n",
    "\n",
    "# dsp = ADAU1401(bus = bus)\n",
    "dsp = ADAU1401(bus = tcpi_client)\n",
    "# ====================================================="
   ]
  },
  {
   "cell_type": "code",
   "execution_count": 129,
   "metadata": {},
   "outputs": [],
   "source": [
    "# dsp.write_addressed_bytes(0, bytes(4))"
   ]
  },
  {
   "cell_type": "code",
   "execution_count": 185,
   "metadata": {},
   "outputs": [],
   "source": [
    "CMD_RESET = bytes([82, 101, 115, 101, 116])  # 'Reset'\n",
    "\n",
    "tcpi_client.send(CMD_RESET)"
   ]
  },
  {
   "cell_type": "code",
   "execution_count": 186,
   "metadata": {},
   "outputs": [
    {
     "name": "stdout",
     "output_type": "stream",
     "text": [
      "\n",
      "[Connecting server: ('192.168.0.13', 8086)]\n",
      "\n",
      "[Connected with server: ('192.168.0.13', 8086)]\n"
     ]
    }
   ],
   "source": [
    "tcpi_client.connect(server_ip = '192.168.0.13', server_port = 8086)"
   ]
  },
  {
   "cell_type": "code",
   "execution_count": 187,
   "metadata": {
    "scrolled": true
   },
   "outputs": [
    {
     "name": "stdout",
     "output_type": "stream",
     "text": [
      "\n",
      "[Connection with server ('192.168.0.13', 8086) is closed.]\n"
     ]
    }
   ],
   "source": [
    "tcpi_client.close_connection()"
   ]
  },
  {
   "cell_type": "code",
   "execution_count": 188,
   "metadata": {},
   "outputs": [
    {
     "name": "stdout",
     "output_type": "stream",
     "text": [
      "\n",
      "[Connecting server: ('192.168.0.13', 8086)]\n",
      "\n",
      "[Connected with server: ('192.168.0.13', 8086)]\n"
     ]
    }
   ],
   "source": [
    "tcpi_client.connect(server_ip = '192.168.0.13', server_port = 8086)"
   ]
  },
  {
   "cell_type": "code",
   "execution_count": 189,
   "metadata": {},
   "outputs": [
    {
     "data": {
      "text/plain": [
       "<socket.socket fd=2532, family=AddressFamily.AF_INET, type=SocketKind.SOCK_STREAM, proto=0, laddr=('192.168.0.168', 54327), raddr=('192.168.0.13', 8086)>"
      ]
     },
     "execution_count": 189,
     "metadata": {},
     "output_type": "execute_result"
    }
   ],
   "source": [
    "tcpi_client.socket"
   ]
  },
  {
   "cell_type": "code",
   "execution_count": 190,
   "metadata": {},
   "outputs": [
    {
     "data": {
      "text/plain": [
       "b'\\x00\\x00\\x00\\xff'"
      ]
     },
     "execution_count": 190,
     "metadata": {},
     "output_type": "execute_result"
    }
   ],
   "source": [
    "dsp.read_addressed_bytes(0, 4)"
   ]
  },
  {
   "cell_type": "code",
   "execution_count": 191,
   "metadata": {},
   "outputs": [],
   "source": [
    "# tcpi_client.close_connection()"
   ]
  },
  {
   "cell_type": "code",
   "execution_count": 192,
   "metadata": {},
   "outputs": [
    {
     "name": "stdout",
     "output_type": "stream",
     "text": [
      "\n",
      "[Client set to stop.]\n",
      "\n",
      "[Connection with server ('192.168.0.13', 8086) is closed.]\n"
     ]
    }
   ],
   "source": [
    "tcpi_client.stop()"
   ]
  },
  {
   "cell_type": "code",
   "execution_count": 193,
   "metadata": {},
   "outputs": [
    {
     "name": "stdout",
     "output_type": "stream",
     "text": [
      "\n",
      "[Connecting server: ('192.168.0.13', 8086)]\n",
      "\n",
      "[Connected with server: ('192.168.0.13', 8086)]\n"
     ]
    }
   ],
   "source": [
    "tcpi_client.connect(server_ip = '192.168.0.13', server_port = 8086)"
   ]
  },
  {
   "cell_type": "code",
   "execution_count": 194,
   "metadata": {},
   "outputs": [
    {
     "data": {
      "text/plain": [
       "b'\\x00\\x00\\x00\\xff'"
      ]
     },
     "execution_count": 194,
     "metadata": {},
     "output_type": "execute_result"
    }
   ],
   "source": [
    "dsp.read_addressed_bytes(0, 4)"
   ]
  },
  {
   "cell_type": "code",
   "execution_count": 195,
   "metadata": {},
   "outputs": [],
   "source": [
    "dsp.control.power_down()"
   ]
  },
  {
   "cell_type": "code",
   "execution_count": 196,
   "metadata": {},
   "outputs": [],
   "source": [
    "dsp.control.power_up()"
   ]
  },
  {
   "cell_type": "code",
   "execution_count": 197,
   "metadata": {},
   "outputs": [
    {
     "data": {
      "text/plain": [
       "[(2048, 'Interface Register 0', 0),\n",
       " (2049, 'Interface Register 1', 0),\n",
       " (2050, 'Interface Register 2', 0),\n",
       " (2051, 'Interface Register 3', 0),\n",
       " (2052, 'Interface Register 4', 0),\n",
       " (2053, 'Interface Register 5', 0),\n",
       " (2054, 'Interface Register 6', 0),\n",
       " (2055, 'Interface Register 7', 0),\n",
       " (2056, 'GPIO Pin Setting', 3839),\n",
       " (2057, 'Auxiliary ADC Data 0', 256),\n",
       " (2058, 'Auxiliary ADC Data 1', 256),\n",
       " (2059, 'Auxiliary ADC Data 2', 256),\n",
       " (2060, 'Auxiliary ADC Data 3', 256),\n",
       " (2064, 'Safeload Registers 0', 0),\n",
       " (2065, 'Safeload Registers 1', 0),\n",
       " (2066, 'Safeload Registers 2', 0),\n",
       " (2067, 'Safeload Registers 3', 0),\n",
       " (2068, 'Safeload Registers 4', 0),\n",
       " (2069, 'Safeload Address 0', 0),\n",
       " (2070, 'Safeload Address 1', 0),\n",
       " (2071, 'Safeload Address 2', 0),\n",
       " (2072, 'Safeload Address 3', 0),\n",
       " (2073, 'Safeload Address 4', 0),\n",
       " (2074, 'Data Capture 0', 63536),\n",
       " (2075, 'Data Capture 1', 1702),\n",
       " (2076, 'DSP Core Control', 28),\n",
       " (2078, 'Serial Output Control', 0),\n",
       " (2079, 'Serial Input Control', 0),\n",
       " (2080, 'Multipurpose Pin Configuration 0', 0),\n",
       " (2081, 'Multipurpose Pin Configuration 1', 0),\n",
       " (2082, 'Auxiliary ADC and Power Control', 0),\n",
       " (2084, 'Auxiliary ADC Enable', 32768),\n",
       " (2086, 'Oscillator Power Down', 0),\n",
       " (2087, 'DAC Setup', 1)]"
      ]
     },
     "execution_count": 197,
     "metadata": {},
     "output_type": "execute_result"
    }
   ],
   "source": [
    "dsp.read_all_registers()"
   ]
  },
  {
   "cell_type": "markdown",
   "metadata": {},
   "source": [
    "## SigmaStudio project file"
   ]
  },
  {
   "cell_type": "code",
   "execution_count": 143,
   "metadata": {},
   "outputs": [
    {
     "data": {
      "text/plain": [
       "'..\\\\..\\\\SigmaStudio projects\\\\projects\\\\demo\\\\demo.dspproj'"
      ]
     },
     "execution_count": 143,
     "metadata": {},
     "output_type": "execute_result"
    }
   ],
   "source": [
    "import os\n",
    "\n",
    "SigmaStudio_project_file_url = os.sep.join(['..', '..', 'SigmaStudio projects', 'projects', 'demo', 'demo.dspproj'])\n",
    "SigmaStudio_project_file_url"
   ]
  },
  {
   "cell_type": "markdown",
   "metadata": {},
   "source": [
    "## Factory"
   ]
  },
  {
   "cell_type": "code",
   "execution_count": 144,
   "metadata": {},
   "outputs": [],
   "source": [
    "import os\n",
    "from sigma.factory import Factory \n",
    "\n",
    "project_xml_file_url = os.sep.join(['..', '..', '..', '..', '..', 'SigmaDSP', 'bitbucket', 'github', 'SigmaStudio projects', 'projects', 'demo', 'demo.xml'])\n",
    "class_files_root_url = os.sep.join( ['..', '..', '..', '..', '..', 'SigmaDSP', 'bitbucket', 'github', 'codes', 'sigma', 'sigma_studio', 'toolbox', 'cells']) \n",
    "\n",
    "factory = Factory(project_xml_file_url = project_xml_file_url,\n",
    "                  class_files_root_url = class_files_root_url,\n",
    "                  dsp = dsp\n",
    "                 )"
   ]
  },
  {
   "cell_type": "markdown",
   "metadata": {},
   "source": [
    "## IC"
   ]
  },
  {
   "cell_type": "code",
   "execution_count": 145,
   "metadata": {
    "scrolled": false
   },
   "outputs": [],
   "source": [
    "# showing cells, algorithms, parameters of this project\n",
    "\n",
    "ic = factory.get_ic()\n",
    "# ic.df"
   ]
  },
  {
   "cell_type": "markdown",
   "metadata": {},
   "source": [
    "## Cells "
   ]
  },
  {
   "cell_type": "code",
   "execution_count": 146,
   "metadata": {},
   "outputs": [],
   "source": [
    "cells = factory.get_cells()"
   ]
  },
  {
   "cell_type": "markdown",
   "metadata": {},
   "source": [
    "### Get Cell objects ready for use."
   ]
  },
  {
   "cell_type": "code",
   "execution_count": 147,
   "metadata": {
    "scrolled": true
   },
   "outputs": [],
   "source": [
    "## un-comment this to generate a script to embody Cell objects.\n",
    "\n",
    "# for o in factory.get_cells_manifest():\n",
    "#     print(o) "
   ]
  },
  {
   "cell_type": "code",
   "execution_count": 148,
   "metadata": {},
   "outputs": [],
   "source": [
    "# assign variable names to each Cell for easy access.\n",
    "\n",
    "compressor0 = cells['Compressor0']  # Mono RMS Full Range (No Post Gain)( 1 )\n",
    "compressor1 = cells['Compressor1']  # Mono RMS Full Range (No Post Gain)( 1 )\n",
    "compressor2 = cells['Compressor2']  # Mono RMS Full Range (No Post Gain)( 1 )\n",
    "compressor3 = cells['Compressor3']  # Mono RMS Full Range (No Post Gain)( 1 )\n",
    "delay0 = cells['Delay0']  # Del_Grow( 1 )\n",
    "delay1 = cells['Delay1']  # Del_Grow( 1 )\n",
    "delay2 = cells['Delay2']  # Del_Grow( 1 )\n",
    "delay3 = cells['Delay3']  # Del_Grow( 1 )\n",
    "fir0 = cells['FIR0']  # FIR( 1 )\n",
    "fir1 = cells['FIR1']  # FIR( 1 )\n",
    "fir2 = cells['FIR2']  # FIR( 1 )\n",
    "fir3 = cells['FIR3']  # FIR( 1 )\n",
    "gain_in0 = cells['Gain_in0']  # Gain (no slew)( 1 )\n",
    "gain_in1 = cells['Gain_in1']  # Gain (no slew)( 1 )\n",
    "gain_in2 = cells['Gain_in2']  # Gain (no slew)( 1 )\n",
    "gain_in3 = cells['Gain_in3']  # Gain (no slew)( 1 )\n",
    "gain_out0 = cells['Gain_out0']  # Gain (no slew)( 1 )\n",
    "gain_out1 = cells['Gain_out1']  # Gain (no slew)( 1 )\n",
    "gain_out2 = cells['Gain_out2']  # Gain (no slew)( 1 )\n",
    "gain_out3 = cells['Gain_out3']  # Gain (no slew)( 1 )\n",
    "merger0 = cells['Merger0']  # Signal MixerC\n",
    "merger1 = cells['Merger1']  # Signal MixerC\n",
    "merger2 = cells['Merger2']  # Signal MixerC\n",
    "merger3 = cells['Merger3']  # Signal MixerC\n",
    "mute000 = cells['Mute000']  # No Slew (Standard)( 1 )\n",
    "mute001 = cells['Mute001']  # No Slew (Standard)( 1 )\n",
    "mute002 = cells['Mute002']  # No Slew (Standard)( 1 )\n",
    "mute003 = cells['Mute003']  # No Slew (Standard)( 1 )\n",
    "mute010 = cells['Mute010']  # No Slew (Standard)( 1 )\n",
    "mute011 = cells['Mute011']  # No Slew (Standard)( 1 )\n",
    "mute012 = cells['Mute012']  # No Slew (Standard)( 1 )\n",
    "mute013 = cells['Mute013']  # No Slew (Standard)( 1 )\n",
    "mute100 = cells['Mute100']  # No Slew (Standard)( 1 )\n",
    "mute101 = cells['Mute101']  # No Slew (Standard)( 1 )\n",
    "mute102 = cells['Mute102']  # No Slew (Standard)( 1 )\n",
    "mute103 = cells['Mute103']  # No Slew (Standard)( 1 )\n",
    "mute110 = cells['Mute110']  # No Slew (Standard)( 1 )\n",
    "mute111 = cells['Mute111']  # No Slew (Standard)( 1 )\n",
    "mute112 = cells['Mute112']  # No Slew (Standard)( 1 )\n",
    "mute113 = cells['Mute113']  # No Slew (Standard)( 1 )\n",
    "mute_in0 = cells['Mute_in0']  # No Slew (Standard)( 1 )\n",
    "mute_in1 = cells['Mute_in1']  # No Slew (Standard)( 1 )\n",
    "mute_in2 = cells['Mute_in2']  # No Slew (Standard)( 1 )\n",
    "mute_in3 = cells['Mute_in3']  # No Slew (Standard)( 1 )\n",
    "mute_out0 = cells['Mute_out0']  # No Slew (Standard)( 1 )\n",
    "mute_out1 = cells['Mute_out1']  # No Slew (Standard)( 1 )\n",
    "mute_out2 = cells['Mute_out2']  # No Slew (Standard)( 1 )\n",
    "mute_out3 = cells['Mute_out3']  # No Slew (Standard)( 1 )\n",
    "param_eq_in0 = cells['Param EQ_in0']  # PEQ1Chan - Double Precision( 1 )\n",
    "param_eq_in1 = cells['Param EQ_in1']  # PEQ1Chan - Double Precision( 1 )\n",
    "param_eq_in2 = cells['Param EQ_in2']  # PEQ1Chan - Double Precision( 1 )\n",
    "param_eq_in3 = cells['Param EQ_in3']  # PEQ1Chan - Double Precision( 1 )\n",
    "param_eq_out0 = cells['Param EQ_out0']  # PEQ1Chan - Double Precision( 1 )\n",
    "param_eq_out1 = cells['Param EQ_out1']  # PEQ1Chan - Double Precision( 1 )\n",
    "param_eq_out2 = cells['Param EQ_out2']  # PEQ1Chan - Double Precision( 1 )\n",
    "param_eq_out3 = cells['Param EQ_out3']  # PEQ1Chan - Double Precision( 1 )\n",
    "source_switch_0 = cells['Source_Switch_0']  # Stereo SW Slew( 3 )\n",
    "source_switch_1 = cells['Source_Switch_1']  # Stereo SW Slew( 3 )\n",
    "tone1 = cells['Tone1']  # Tone Synthesis (lookup/sine)( 1 )\n",
    "tone2 = cells['Tone2']  # Tone Synthesis (lookup/sine)( 1 )\n",
    "volume_control_in0 = cells['Volume_Control_in0']  # Gain (RC Slew)( 1 )\n",
    "volume_control_in1 = cells['Volume_Control_in1']  # Gain (RC Slew)( 1 )\n",
    "volume_control_out01 = cells['Volume_Control_out01']  # Gain (RC Slew)( 1 )\n",
    "volume_control_out23 = cells['Volume_Control_out23']  # Gain (RC Slew)( 1 )\n",
    "white_noise = cells['White_Noise']  # White Noise( 1 )"
   ]
  },
  {
   "cell_type": "markdown",
   "metadata": {},
   "source": [
    "## Functional Demostration"
   ]
  },
  {
   "cell_type": "code",
   "execution_count": 149,
   "metadata": {},
   "outputs": [],
   "source": [
    "# switch to sine tone\n",
    "\n",
    "source_switch_0.switch(0)"
   ]
  },
  {
   "cell_type": "code",
   "execution_count": 150,
   "metadata": {},
   "outputs": [],
   "source": [
    "# get cell by name\n",
    "\n",
    "tone2 = factory.get_cell_by_name('Tone2')"
   ]
  },
  {
   "cell_type": "code",
   "execution_count": 151,
   "metadata": {},
   "outputs": [],
   "source": [
    "# disable sine tones\n",
    "\n",
    "tone1.enable(False)\n",
    "tone2.enable(False)"
   ]
  },
  {
   "cell_type": "code",
   "execution_count": 152,
   "metadata": {},
   "outputs": [],
   "source": [
    "# enable sine tones\n",
    "\n",
    "tone1.enable(True)\n",
    "tone2.enable(True)"
   ]
  },
  {
   "cell_type": "code",
   "execution_count": 153,
   "metadata": {},
   "outputs": [],
   "source": [
    "# set frequency \n",
    "\n",
    "tone1.set_frequency(440)\n",
    "tone2.set_frequency(436)"
   ]
  },
  {
   "cell_type": "code",
   "execution_count": 154,
   "metadata": {},
   "outputs": [],
   "source": [
    "# set frequency \n",
    "\n",
    "tone1.set_frequency(1100)\n",
    "tone2.set_frequency(1104)"
   ]
  },
  {
   "cell_type": "code",
   "execution_count": 155,
   "metadata": {},
   "outputs": [],
   "source": [
    "# set frequency \n",
    "\n",
    "tone1.set_frequency(110)\n",
    "tone2.set_frequency(114)"
   ]
  },
  {
   "cell_type": "code",
   "execution_count": 156,
   "metadata": {},
   "outputs": [
    {
     "data": {
      "text/plain": [
       "109.99774932861328"
      ]
     },
     "execution_count": 156,
     "metadata": {},
     "output_type": "execute_result"
    }
   ],
   "source": [
    "tone1.get_frequency()"
   ]
  },
  {
   "cell_type": "code",
   "execution_count": 157,
   "metadata": {},
   "outputs": [],
   "source": [
    "# switch to white noise\n",
    "\n",
    "source_switch_0.switch(1)"
   ]
  },
  {
   "cell_type": "code",
   "execution_count": 158,
   "metadata": {},
   "outputs": [],
   "source": [
    "# decrease volume\n",
    "\n",
    "volume_control_in0.set_dB(-20)"
   ]
  },
  {
   "cell_type": "code",
   "execution_count": 159,
   "metadata": {},
   "outputs": [],
   "source": [
    "# increase volume\n",
    "\n",
    "volume_control_in0.set_dB(0)"
   ]
  },
  {
   "cell_type": "code",
   "execution_count": 160,
   "metadata": {},
   "outputs": [],
   "source": [
    "# mute input\n",
    "\n",
    "mute_in0.mute(True)\n",
    "mute_in1.mute(True)"
   ]
  },
  {
   "cell_type": "code",
   "execution_count": 161,
   "metadata": {},
   "outputs": [],
   "source": [
    "# un-mute input\n",
    "\n",
    "mute_in0.mute(False)\n",
    "mute_in1.mute(False)"
   ]
  },
  {
   "cell_type": "code",
   "execution_count": 162,
   "metadata": {},
   "outputs": [],
   "source": [
    "# disable white noise\n",
    "\n",
    "white_noise.enable(False)"
   ]
  },
  {
   "cell_type": "code",
   "execution_count": 163,
   "metadata": {},
   "outputs": [],
   "source": [
    "# enable white noise\n",
    "\n",
    "white_noise.enable(True)"
   ]
  },
  {
   "cell_type": "code",
   "execution_count": 164,
   "metadata": {},
   "outputs": [],
   "source": [
    "# set input0 dB = 0\n",
    "\n",
    "gain_in0.set_dB(0)"
   ]
  },
  {
   "cell_type": "code",
   "execution_count": 165,
   "metadata": {},
   "outputs": [],
   "source": [
    "# set input0 dB = -10\n",
    "\n",
    "gain_in0.set_dB(-10)"
   ]
  },
  {
   "cell_type": "code",
   "execution_count": 166,
   "metadata": {
    "scrolled": true
   },
   "outputs": [
    {
     "data": {
      "text/plain": [
       "-10.000002514143702"
      ]
     },
     "execution_count": 166,
     "metadata": {},
     "output_type": "execute_result"
    }
   ],
   "source": [
    "# read input0 dB value\n",
    "\n",
    "gain_in0.get_dB()"
   ]
  },
  {
   "cell_type": "code",
   "execution_count": 167,
   "metadata": {},
   "outputs": [
    {
     "data": {
      "text/plain": [
       "0.31622767448425293"
      ]
     },
     "execution_count": 167,
     "metadata": {},
     "output_type": "execute_result"
    }
   ],
   "source": [
    "# read input0 gain value\n",
    "\n",
    "gain_in0.get_gain()"
   ]
  },
  {
   "cell_type": "code",
   "execution_count": 168,
   "metadata": {},
   "outputs": [],
   "source": [
    "# set input0 gain = 1\n",
    "\n",
    "gain_in0.set_gain(1)"
   ]
  },
  {
   "cell_type": "code",
   "execution_count": 169,
   "metadata": {
    "scrolled": true
   },
   "outputs": [
    {
     "data": {
      "text/plain": [
       "0.0"
      ]
     },
     "execution_count": 169,
     "metadata": {},
     "output_type": "execute_result"
    }
   ],
   "source": [
    "# check input0 dB value\n",
    "\n",
    "gain_in0.get_dB()"
   ]
  },
  {
   "cell_type": "code",
   "execution_count": 170,
   "metadata": {},
   "outputs": [
    {
     "data": {
      "text/plain": [
       "1.0"
      ]
     },
     "execution_count": 170,
     "metadata": {},
     "output_type": "execute_result"
    }
   ],
   "source": [
    "# check input0 gain value\n",
    "\n",
    "gain_in0.get_gain()"
   ]
  },
  {
   "cell_type": "code",
   "execution_count": 171,
   "metadata": {},
   "outputs": [
    {
     "data": {
      "text/plain": [
       "[1.0, 0.0, 0.0, 0.0, 0.0, 0.0, 0.0, 0.0, 0.0, 0.0]"
      ]
     },
     "execution_count": 171,
     "metadata": {},
     "output_type": "execute_result"
    }
   ],
   "source": [
    "# read FIR0's coefficients\n",
    "\n",
    "coeffs = fir0.get_coefficients()\n",
    "coeffs"
   ]
  },
  {
   "cell_type": "code",
   "execution_count": 172,
   "metadata": {},
   "outputs": [
    {
     "data": {
      "text/plain": [
       "[1.0, 0.0, 0.0, 0.0, 0.0, 2.0, 0.0, 0.0, 0.0, 0.0]"
      ]
     },
     "execution_count": 172,
     "metadata": {},
     "output_type": "execute_result"
    }
   ],
   "source": [
    "# set and check FIR0's coefficients\n",
    "\n",
    "fir0.set_coefficients([1.0, 0.0, 0.0, 0.0, 0.0, 2.0, 0.0, 0.0, 0.0, 0.0])\n",
    "fir0.get_coefficients()"
   ]
  },
  {
   "cell_type": "code",
   "execution_count": 173,
   "metadata": {},
   "outputs": [
    {
     "data": {
      "text/plain": [
       "[1.0, 0.0, 0.0, 0.0, 0.0, 2.0, 0.0, 0.0, 0.0, 0.0]"
      ]
     },
     "execution_count": 173,
     "metadata": {},
     "output_type": "execute_result"
    }
   ],
   "source": [
    "# coefficients of FIR0 can also be accessed via. get_table() method.\n",
    "\n",
    "fir0.get_table().numbers"
   ]
  },
  {
   "cell_type": "code",
   "execution_count": 174,
   "metadata": {},
   "outputs": [],
   "source": [
    "# set delay samples\n",
    "\n",
    "delay0.set_delayed_samples(1)"
   ]
  },
  {
   "cell_type": "code",
   "execution_count": 175,
   "metadata": {},
   "outputs": [],
   "source": [
    "# set delay samples\n",
    "\n",
    "delay1.set_delayed_samples(1)"
   ]
  },
  {
   "cell_type": "code",
   "execution_count": 176,
   "metadata": {},
   "outputs": [
    {
     "data": {
      "text/plain": [
       "1"
      ]
     },
     "execution_count": 176,
     "metadata": {},
     "output_type": "execute_result"
    }
   ],
   "source": [
    "# read and check delay samples\n",
    "\n",
    "delay0.get_delayed_samples()"
   ]
  },
  {
   "cell_type": "code",
   "execution_count": 177,
   "metadata": {},
   "outputs": [
    {
     "data": {
      "text/plain": [
       "0.020833333333333332"
      ]
     },
     "execution_count": 177,
     "metadata": {},
     "output_type": "execute_result"
    }
   ],
   "source": [
    "# read and check delay milliseconds\n",
    "\n",
    "delayed_ms = delay0.get_delayed_ms()\n",
    "delayed_ms"
   ]
  },
  {
   "cell_type": "code",
   "execution_count": 178,
   "metadata": {},
   "outputs": [],
   "source": [
    "# set delay milliseconds\n",
    "\n",
    "delay0.set_delayed_ms(delayed_ms * 2)"
   ]
  },
  {
   "cell_type": "code",
   "execution_count": 179,
   "metadata": {},
   "outputs": [
    {
     "data": {
      "text/plain": [
       "2"
      ]
     },
     "execution_count": 179,
     "metadata": {},
     "output_type": "execute_result"
    }
   ],
   "source": [
    "# read and check delay samples\n",
    "\n",
    "delay0.get_delayed_samples()"
   ]
  },
  {
   "cell_type": "code",
   "execution_count": 180,
   "metadata": {},
   "outputs": [
    {
     "data": {
      "text/plain": [
       "[['0B1', 1.0016894340515137],\n",
       " ['1A1', 1.995591640472412],\n",
       " ['1B1', -1.995591640472412],\n",
       " ['2A1', -0.9956583976745605],\n",
       " ['2B1', 0.9939688444137573]]"
      ]
     },
     "execution_count": 180,
     "metadata": {},
     "output_type": "execute_result"
    }
   ],
   "source": [
    "# read PEQ0's coefficients\n",
    "\n",
    "coeffs = param_eq_in0.get_parameters_values()\n",
    "coeffs"
   ]
  },
  {
   "cell_type": "code",
   "execution_count": 182,
   "metadata": {},
   "outputs": [
    {
     "data": {
      "text/plain": [
       "[['0B1', 1.0016894340515137],\n",
       " ['1A1', 1.995591640472412],\n",
       " ['1B1', -1.0],\n",
       " ['2A1', -0.9956583976745605],\n",
       " ['2B1', 0.9939688444137573]]"
      ]
     },
     "execution_count": 182,
     "metadata": {},
     "output_type": "execute_result"
    }
   ],
   "source": [
    "# set and check PEQ0's coefficients\n",
    "\n",
    "coeffs[2][1] = -1.0\n",
    "\n",
    "param_eq_in0.set_parameters_values(coeffs)\n",
    "param_eq_in0.get_parameters_values()"
   ]
  },
  {
   "cell_type": "raw",
   "metadata": {},
   "source": [
    "# reload from EEPROM, equivalent to soft-reset\n",
    "\n",
    "dsp.reload_from_eeprom()"
   ]
  },
  {
   "cell_type": "markdown",
   "metadata": {},
   "source": [
    "### Close TCP channels"
   ]
  },
  {
   "cell_type": "code",
   "execution_count": 183,
   "metadata": {},
   "outputs": [
    {
     "name": "stdout",
     "output_type": "stream",
     "text": [
      "\n",
      "[Client set to stop.]\n",
      "\n",
      "[Connection with server ('192.168.0.13', 8086) is closed.]\n"
     ]
    }
   ],
   "source": [
    "tcpi_client.stop()"
   ]
  }
 ],
 "metadata": {
  "kernelspec": {
   "display_name": "Python 3 (ipykernel)",
   "language": "python",
   "name": "python3"
  },
  "language_info": {
   "codemirror_mode": {
    "name": "ipython",
    "version": 3
   },
   "file_extension": ".py",
   "mimetype": "text/x-python",
   "name": "python",
   "nbconvert_exporter": "python",
   "pygments_lexer": "ipython3",
   "version": "3.8.12"
  }
 },
 "nbformat": 4,
 "nbformat_minor": 2
}
