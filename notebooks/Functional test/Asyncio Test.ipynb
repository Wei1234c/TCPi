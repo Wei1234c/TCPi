{
 "cells": [
  {
   "cell_type": "markdown",
   "metadata": {},
   "source": [
    "# Asyncio Test"
   ]
  },
  {
   "cell_type": "code",
   "execution_count": null,
   "metadata": {},
   "outputs": [],
   "source": [
    "def grep(pattern):\n",
    "    print(\"Searching for\", pattern)\n",
    "    while True:\n",
    "        line = (yield)\n",
    "        if pattern in line:\n",
    "            print(line)\n",
    "\n",
    "search = grep('coroutine')\n",
    "next(search)\n",
    "# Output: Searching for coroutine\n",
    "search.send(\"I love you\")\n",
    "search.send(\"Don't you love me?\")\n",
    "search.send(\"I love coroutines instead!\")\n",
    "# Output: I love coroutines instead!"
   ]
  },
  {
   "cell_type": "code",
   "execution_count": 1,
   "metadata": {},
   "outputs": [],
   "source": [
    "data_buff = None\n",
    "def _request_to_read( n_bytes): \n",
    "    print(f'_request_to_read {n_bytes} bytes')\n",
    "\n",
    "def _read_bytes(data): \n",
    "    return data\n",
    "def buff():\n",
    "    pass\n",
    "    data_buff = (yield)\n",
    "    \n",
    "class mock:\n",
    "    pass\n",
    "\n",
    "m = mock()\n",
    "m.value = None\n",
    "\n",
    "def read_addressed_bytes(n_bytes):\n",
    "    _request_to_read(n_bytes)\n",
    "    while True:\n",
    "        m.value = (yield)  \n",
    "    \n",
    "g = read_addressed_bytes(4)"
   ]
  },
  {
   "cell_type": "code",
   "execution_count": 2,
   "metadata": {},
   "outputs": [
    {
     "name": "stdout",
     "output_type": "stream",
     "text": [
      "_request_to_read 4 bytes\n"
     ]
    }
   ],
   "source": [
    "next(g)"
   ]
  },
  {
   "cell_type": "code",
   "execution_count": 3,
   "metadata": {},
   "outputs": [
    {
     "data": {
      "text/plain": [
       "128"
      ]
     },
     "execution_count": 3,
     "metadata": {},
     "output_type": "execute_result"
    }
   ],
   "source": [
    "g.send(128)\n",
    "m.value"
   ]
  },
  {
   "cell_type": "code",
   "execution_count": null,
   "metadata": {},
   "outputs": [],
   "source": []
  }
 ],
 "metadata": {
  "kernelspec": {
   "display_name": "Python 3 (ipykernel)",
   "language": "python",
   "name": "python3"
  },
  "language_info": {
   "codemirror_mode": {
    "name": "ipython",
    "version": 3
   },
   "file_extension": ".py",
   "mimetype": "text/x-python",
   "name": "python",
   "nbconvert_exporter": "python",
   "pygments_lexer": "ipython3",
   "version": "3.8.12"
  }
 },
 "nbformat": 4,
 "nbformat_minor": 2
}
