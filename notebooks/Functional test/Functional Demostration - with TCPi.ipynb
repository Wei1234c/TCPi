{
 "cells": [
  {
   "cell_type": "markdown",
   "metadata": {},
   "source": [
    "# Functional Demostration - with TCPi"
   ]
  },
  {
   "cell_type": "code",
   "execution_count": null,
   "metadata": {},
   "outputs": [],
   "source": [
    "from pathfinder import Pathfinder"
   ]
  },
  {
   "cell_type": "code",
   "execution_count": null,
   "metadata": {},
   "outputs": [],
   "source": [
    "# relative_paths = [['..', '..', '..', '..', '..', '..', '已完成', 'Bridges', 'bitbucket', 'github', 'codes'],\n",
    "#                   ['..', '..', '..', '..', '..', 'Signal Generators', 'bitbucket', 'github', 'codes'],\n",
    "#                   ['..', '..', '..', '..', '..', 'Utilities', 'bitbucket', 'github', 'codes'],\n",
    "#                   ['..', '..', 'codes']]"
   ]
  },
  {
   "cell_type": "code",
   "execution_count": null,
   "metadata": {},
   "outputs": [],
   "source": [
    "from pathfinder import Pathfinder\n",
    "\n",
    "# abs_paths = [' ']\n",
    "# Pathfinder.relative_paths_from_abs(abs_paths)\n",
    "\n",
    "# relative_paths = [['..', '..', '..', '..', '..', 'FX2LP', 'bitbucket', 'github', 'codes'],\n",
    "#                   ['..', '..', '..', '..', '..', 'Signal Generators', 'bitbucket', 'github', 'codes'],\n",
    "#                   ['..', '..', '..', '..', '..', 'USBi', 'bitbucket', 'github', 'codes'],\n",
    "#                   ['..', '..', '..', '..', '..', 'Utilities', 'bitbucket', 'github', 'codes'],\n",
    "#                   ['..', '..', 'codes']]\n",
    "relative_paths = [['..', '..', '..', '..', '..', '..', '已完成', 'Bridges', 'bitbucket', 'github', 'codes'],\n",
    "                  ['..', '..', '..', '..', '..', 'SigmaDSP', 'bitbucket', 'github', 'codes'],\n",
    "                  ['..', '..', '..', '..', '..', 'Utilities', 'bitbucket', 'github', 'codes'],\n",
    "                  ['..', '..', 'codes']]\n",
    "Pathfinder.append_relative_paths(relative_paths)"
   ]
  },
  {
   "cell_type": "code",
   "execution_count": null,
   "metadata": {},
   "outputs": [],
   "source": [
    "import threading\n",
    "\n",
    "from bridges.ftdi.controllers.i2c import I2cController\n",
    "from sigma.bus import adapters\n",
    "from tcpi.bus.server import I2C as TcpI2C\n",
    "from tcpi.protocols.TCPIP1701 import class_finder\n"
   ]
  },
  {
   "cell_type": "code",
   "execution_count": null,
   "metadata": {},
   "outputs": [],
   "source": [
    "import pandas as pd\n",
    "\n",
    "#https://thispointer.com/python-pandas-how-to-display-full-dataframe-i-e-print-all-rows-columns-without-truncation/\n",
    "pd.set_option('display.max_rows', None)\n",
    "# pd.set_option('display.max_columns', None)\n",
    "# pd.set_option('display.width', None)\n",
    "# pd.set_option('display.max_colwidth', -1)"
   ]
  },
  {
   "cell_type": "markdown",
   "metadata": {},
   "source": [
    "## TCPi server test"
   ]
  },
  {
   "cell_type": "code",
   "execution_count": null,
   "metadata": {},
   "outputs": [],
   "source": [
    "with_hardware_device = True\n",
    "\n",
    "if with_hardware_device:\n",
    "    ctrl = I2cController()\n",
    "    _i2c = ctrl.I2C()\n",
    "\n",
    "else:\n",
    "    _i2c = None  # using None for testing without actual hardware device.\n",
    "\n",
    "bus = adapters.I2C(i2c = _i2c)\n",
    "tcpi_server = TcpI2C(bus, class_finder, i2c_addresses = {1: 0x68 >> 1})\n",
    "# tcpi_server.run()\n",
    "\n",
    "\n",
    "t_server = threading.Thread(target = tcpi_server.run)\n",
    "t_server.start()"
   ]
  },
  {
   "cell_type": "code",
   "execution_count": null,
   "metadata": {},
   "outputs": [],
   "source": [
    "tcpi_server.stop()\n",
    "t_server.join()"
   ]
  },
  {
   "cell_type": "code",
   "execution_count": null,
   "metadata": {},
   "outputs": [],
   "source": [
    "import os\n",
    "\n",
    "from sigma.sigma_dsp.adau import ADAU1401\n",
    "import usbi"
   ]
  },
  {
   "cell_type": "markdown",
   "metadata": {},
   "source": [
    "## Debug mode?"
   ]
  },
  {
   "cell_type": "code",
   "execution_count": null,
   "metadata": {
    "scrolled": false
   },
   "outputs": [],
   "source": [
    "cls = ADAU1401\n",
    "\n",
    "cls.DEBUG_MODE_SHOW_BUS_DATA = False         # whether to show bus data. \n",
    "cls.DEBUG_MODE_PRINT_REGISTER = False        # whether to print registers. "
   ]
  },
  {
   "cell_type": "markdown",
   "metadata": {},
   "source": [
    "## DSP processor"
   ]
  },
  {
   "cell_type": "code",
   "execution_count": null,
   "metadata": {},
   "outputs": [],
   "source": [
    "dsp = ADAU1401(bus = usbi.I2C())"
   ]
  },
  {
   "cell_type": "markdown",
   "metadata": {},
   "source": [
    "## SigmaStudio project file"
   ]
  },
  {
   "cell_type": "code",
   "execution_count": null,
   "metadata": {},
   "outputs": [],
   "source": [
    "SigmaStudio_project_file_url = os.sep.join(['..', '..', 'SigmaStudio projects', 'projects', 'demo', 'demo.dspproj'])\n",
    "SigmaStudio_project_file_url"
   ]
  },
  {
   "cell_type": "markdown",
   "metadata": {},
   "source": [
    "![](https://github.com/Wei1234c/SigmaDSP/blob/master/SigmaStudio%20projects/projects/demo/demo.png?raw=true)"
   ]
  },
  {
   "cell_type": "markdown",
   "metadata": {},
   "source": [
    "[![SigmaDSP PC Control Test](https://raw.githubusercontent.com/Wei1234c/SigmaDSP/master/jpgs/demo_equip_setup.png)](https://youtu.be/XHlZtDsa4oE)     "
   ]
  },
  {
   "cell_type": "markdown",
   "metadata": {},
   "source": [
    "## Factory"
   ]
  },
  {
   "cell_type": "code",
   "execution_count": null,
   "metadata": {},
   "outputs": [],
   "source": [
    "import os\n",
    "from sigma.factory import Factory \n",
    "\n",
    "project_xml_file_url = os.sep.join(['..', '..', 'SigmaStudio projects', 'projects', 'demo', 'demo.xml'])\n",
    "class_files_root_url = os.sep.join(['..', '..', 'codes', 'sigma', 'sigma_studio', 'toolbox', 'cells']) \n",
    "\n",
    "factory = Factory(project_xml_file_url = project_xml_file_url,\n",
    "                  class_files_root_url = class_files_root_url,\n",
    "                  dsp = dsp\n",
    "                 )"
   ]
  },
  {
   "cell_type": "markdown",
   "metadata": {},
   "source": [
    "## IC"
   ]
  },
  {
   "cell_type": "code",
   "execution_count": null,
   "metadata": {
    "scrolled": false
   },
   "outputs": [],
   "source": [
    "# showing cells, algorithms, parameters of this project\n",
    "\n",
    "ic = factory.get_ic()\n",
    "ic.df"
   ]
  },
  {
   "cell_type": "markdown",
   "metadata": {},
   "source": [
    "## Cells "
   ]
  },
  {
   "cell_type": "code",
   "execution_count": null,
   "metadata": {},
   "outputs": [],
   "source": [
    "cells = factory.get_cells()"
   ]
  },
  {
   "cell_type": "markdown",
   "metadata": {},
   "source": [
    "### Get Cell objects ready for use."
   ]
  },
  {
   "cell_type": "code",
   "execution_count": null,
   "metadata": {
    "scrolled": true
   },
   "outputs": [],
   "source": [
    "## un-comment this to generate a script to embody Cell objects.\n",
    "\n",
    "# for o in factory.get_cells_manifest():\n",
    "#     print(o) "
   ]
  },
  {
   "cell_type": "code",
   "execution_count": null,
   "metadata": {},
   "outputs": [],
   "source": [
    "# assign variable names to each Cell for easy access.\n",
    "\n",
    "compressor0 = cells['Compressor0']  # Mono RMS Full Range (No Post Gain)( 1 )\n",
    "compressor1 = cells['Compressor1']  # Mono RMS Full Range (No Post Gain)( 1 )\n",
    "compressor2 = cells['Compressor2']  # Mono RMS Full Range (No Post Gain)( 1 )\n",
    "compressor3 = cells['Compressor3']  # Mono RMS Full Range (No Post Gain)( 1 )\n",
    "delay0 = cells['Delay0']  # Del_Grow( 1 )\n",
    "delay1 = cells['Delay1']  # Del_Grow( 1 )\n",
    "delay2 = cells['Delay2']  # Del_Grow( 1 )\n",
    "delay3 = cells['Delay3']  # Del_Grow( 1 )\n",
    "fir0 = cells['FIR0']  # FIR( 1 )\n",
    "fir1 = cells['FIR1']  # FIR( 1 )\n",
    "fir2 = cells['FIR2']  # FIR( 1 )\n",
    "fir3 = cells['FIR3']  # FIR( 1 )\n",
    "gain_in0 = cells['Gain_in0']  # Gain (no slew)( 1 )\n",
    "gain_in1 = cells['Gain_in1']  # Gain (no slew)( 1 )\n",
    "gain_in2 = cells['Gain_in2']  # Gain (no slew)( 1 )\n",
    "gain_in3 = cells['Gain_in3']  # Gain (no slew)( 1 )\n",
    "gain_out0 = cells['Gain_out0']  # Gain (no slew)( 1 )\n",
    "gain_out1 = cells['Gain_out1']  # Gain (no slew)( 1 )\n",
    "gain_out2 = cells['Gain_out2']  # Gain (no slew)( 1 )\n",
    "gain_out3 = cells['Gain_out3']  # Gain (no slew)( 1 )\n",
    "merger0 = cells['Merger0']  # Signal MixerC\n",
    "merger1 = cells['Merger1']  # Signal MixerC\n",
    "merger2 = cells['Merger2']  # Signal MixerC\n",
    "merger3 = cells['Merger3']  # Signal MixerC\n",
    "mute000 = cells['Mute000']  # No Slew (Standard)( 1 )\n",
    "mute001 = cells['Mute001']  # No Slew (Standard)( 1 )\n",
    "mute002 = cells['Mute002']  # No Slew (Standard)( 1 )\n",
    "mute003 = cells['Mute003']  # No Slew (Standard)( 1 )\n",
    "mute010 = cells['Mute010']  # No Slew (Standard)( 1 )\n",
    "mute011 = cells['Mute011']  # No Slew (Standard)( 1 )\n",
    "mute012 = cells['Mute012']  # No Slew (Standard)( 1 )\n",
    "mute013 = cells['Mute013']  # No Slew (Standard)( 1 )\n",
    "mute100 = cells['Mute100']  # No Slew (Standard)( 1 )\n",
    "mute101 = cells['Mute101']  # No Slew (Standard)( 1 )\n",
    "mute102 = cells['Mute102']  # No Slew (Standard)( 1 )\n",
    "mute103 = cells['Mute103']  # No Slew (Standard)( 1 )\n",
    "mute110 = cells['Mute110']  # No Slew (Standard)( 1 )\n",
    "mute111 = cells['Mute111']  # No Slew (Standard)( 1 )\n",
    "mute112 = cells['Mute112']  # No Slew (Standard)( 1 )\n",
    "mute113 = cells['Mute113']  # No Slew (Standard)( 1 )\n",
    "mute_in0 = cells['Mute_in0']  # No Slew (Standard)( 1 )\n",
    "mute_in1 = cells['Mute_in1']  # No Slew (Standard)( 1 )\n",
    "mute_in2 = cells['Mute_in2']  # No Slew (Standard)( 1 )\n",
    "mute_in3 = cells['Mute_in3']  # No Slew (Standard)( 1 )\n",
    "mute_out0 = cells['Mute_out0']  # No Slew (Standard)( 1 )\n",
    "mute_out1 = cells['Mute_out1']  # No Slew (Standard)( 1 )\n",
    "mute_out2 = cells['Mute_out2']  # No Slew (Standard)( 1 )\n",
    "mute_out3 = cells['Mute_out3']  # No Slew (Standard)( 1 )\n",
    "param_eq_in0 = cells['Param EQ_in0']  # PEQ1Chan - Double Precision( 1 )\n",
    "param_eq_in1 = cells['Param EQ_in1']  # PEQ1Chan - Double Precision( 1 )\n",
    "param_eq_in2 = cells['Param EQ_in2']  # PEQ1Chan - Double Precision( 1 )\n",
    "param_eq_in3 = cells['Param EQ_in3']  # PEQ1Chan - Double Precision( 1 )\n",
    "param_eq_out0 = cells['Param EQ_out0']  # PEQ1Chan - Double Precision( 1 )\n",
    "param_eq_out1 = cells['Param EQ_out1']  # PEQ1Chan - Double Precision( 1 )\n",
    "param_eq_out2 = cells['Param EQ_out2']  # PEQ1Chan - Double Precision( 1 )\n",
    "param_eq_out3 = cells['Param EQ_out3']  # PEQ1Chan - Double Precision( 1 )\n",
    "source_switch_0 = cells['Source_Switch_0']  # Stereo SW Slew( 3 )\n",
    "source_switch_1 = cells['Source_Switch_1']  # Stereo SW Slew( 3 )\n",
    "tone1 = cells['Tone1']  # Tone Synthesis (lookup/sine)( 1 )\n",
    "tone2 = cells['Tone2']  # Tone Synthesis (lookup/sine)( 1 )\n",
    "volume_control_in0 = cells['Volume_Control_in0']  # Gain (RC Slew)( 1 )\n",
    "volume_control_in1 = cells['Volume_Control_in1']  # Gain (RC Slew)( 1 )\n",
    "volume_control_out01 = cells['Volume_Control_out01']  # Gain (RC Slew)( 1 )\n",
    "volume_control_out23 = cells['Volume_Control_out23']  # Gain (RC Slew)( 1 )\n",
    "white_noise = cells['White_Noise']  # White Noise( 1 )"
   ]
  },
  {
   "cell_type": "markdown",
   "metadata": {},
   "source": [
    "## Functional Demostration"
   ]
  },
  {
   "cell_type": "code",
   "execution_count": null,
   "metadata": {},
   "outputs": [],
   "source": [
    "# switch to sine tone\n",
    "\n",
    "source_switch_0.switch(0)"
   ]
  },
  {
   "cell_type": "code",
   "execution_count": null,
   "metadata": {},
   "outputs": [],
   "source": [
    "# get cell by name\n",
    "\n",
    "tone2 = factory.get_cell_by_name('Tone2')"
   ]
  },
  {
   "cell_type": "code",
   "execution_count": null,
   "metadata": {},
   "outputs": [],
   "source": [
    "# disable sine tones\n",
    "\n",
    "tone1.enable(False)\n",
    "tone2.enable(False)"
   ]
  },
  {
   "cell_type": "code",
   "execution_count": null,
   "metadata": {},
   "outputs": [],
   "source": [
    "# enable sine tones\n",
    "\n",
    "tone1.enable(True)\n",
    "tone2.enable(True)"
   ]
  },
  {
   "cell_type": "code",
   "execution_count": null,
   "metadata": {},
   "outputs": [],
   "source": [
    "# set frequency \n",
    "\n",
    "tone1.set_frequency(440)\n",
    "tone2.set_frequency(436)"
   ]
  },
  {
   "cell_type": "code",
   "execution_count": null,
   "metadata": {},
   "outputs": [],
   "source": [
    "# set frequency \n",
    "\n",
    "tone1.set_frequency(1100)\n",
    "tone2.set_frequency(1104)"
   ]
  },
  {
   "cell_type": "code",
   "execution_count": null,
   "metadata": {},
   "outputs": [],
   "source": [
    "# switch to white noise\n",
    "\n",
    "source_switch_0.switch(1)"
   ]
  },
  {
   "cell_type": "code",
   "execution_count": null,
   "metadata": {},
   "outputs": [],
   "source": [
    "# decrease volume\n",
    "\n",
    "volume_control_in0.set_dB(-20)"
   ]
  },
  {
   "cell_type": "code",
   "execution_count": null,
   "metadata": {},
   "outputs": [],
   "source": [
    "# increase volume\n",
    "\n",
    "volume_control_in0.set_dB(0)"
   ]
  },
  {
   "cell_type": "code",
   "execution_count": null,
   "metadata": {},
   "outputs": [],
   "source": [
    "# mute input\n",
    "\n",
    "mute_in0.mute(True)\n",
    "mute_in1.mute(True)"
   ]
  },
  {
   "cell_type": "code",
   "execution_count": null,
   "metadata": {},
   "outputs": [],
   "source": [
    "# un-mute input\n",
    "\n",
    "mute_in0.mute(False)\n",
    "mute_in1.mute(False)"
   ]
  },
  {
   "cell_type": "code",
   "execution_count": null,
   "metadata": {},
   "outputs": [],
   "source": [
    "# disable white noise\n",
    "\n",
    "white_noise.enable(False)"
   ]
  },
  {
   "cell_type": "code",
   "execution_count": null,
   "metadata": {},
   "outputs": [],
   "source": [
    "# enable white noise\n",
    "\n",
    "white_noise.enable(True)"
   ]
  },
  {
   "cell_type": "code",
   "execution_count": null,
   "metadata": {},
   "outputs": [],
   "source": [
    "# set input0 dB = 0\n",
    "\n",
    "gain_in0.set_dB(0)"
   ]
  },
  {
   "cell_type": "code",
   "execution_count": null,
   "metadata": {},
   "outputs": [],
   "source": [
    "# set input0 dB = -10\n",
    "\n",
    "gain_in0.set_dB(-10)"
   ]
  },
  {
   "cell_type": "code",
   "execution_count": null,
   "metadata": {
    "scrolled": true
   },
   "outputs": [],
   "source": [
    "# read input0 dB value\n",
    "\n",
    "gain_in0.get_dB()"
   ]
  },
  {
   "cell_type": "code",
   "execution_count": null,
   "metadata": {},
   "outputs": [],
   "source": [
    "# read input0 gain value\n",
    "\n",
    "gain_in0.get_gain()"
   ]
  },
  {
   "cell_type": "code",
   "execution_count": null,
   "metadata": {},
   "outputs": [],
   "source": [
    "# set input0 gain = 1\n",
    "\n",
    "gain_in0.set_gain(1)"
   ]
  },
  {
   "cell_type": "code",
   "execution_count": null,
   "metadata": {
    "scrolled": true
   },
   "outputs": [],
   "source": [
    "# check input0 dB value\n",
    "\n",
    "gain_in0.get_dB()"
   ]
  },
  {
   "cell_type": "code",
   "execution_count": null,
   "metadata": {},
   "outputs": [],
   "source": [
    "# check input0 gain value\n",
    "\n",
    "gain_in0.get_gain()"
   ]
  },
  {
   "cell_type": "code",
   "execution_count": null,
   "metadata": {},
   "outputs": [],
   "source": [
    "# read FIR0's coefficients\n",
    "\n",
    "coeffs = fir0.get_coefficients()\n",
    "coeffs"
   ]
  },
  {
   "cell_type": "code",
   "execution_count": null,
   "metadata": {},
   "outputs": [],
   "source": [
    "# set and check FIR0's coefficients\n",
    "\n",
    "fir0.set_coefficients([1.0, 0.0, 0.0, 0.0, 0.0, 2.0, 0.0, 0.0, 0.0, 0.0])\n",
    "fir0.get_coefficients()"
   ]
  },
  {
   "cell_type": "code",
   "execution_count": null,
   "metadata": {},
   "outputs": [],
   "source": [
    "# coefficients of FIR0 can also be accessed via. get_table() method.\n",
    "\n",
    "fir0.get_table().numbers"
   ]
  },
  {
   "cell_type": "code",
   "execution_count": null,
   "metadata": {},
   "outputs": [],
   "source": [
    "# set delay samples\n",
    "\n",
    "delay0.set_delayed_samples(1)"
   ]
  },
  {
   "cell_type": "code",
   "execution_count": null,
   "metadata": {},
   "outputs": [],
   "source": [
    "# set delay samples\n",
    "\n",
    "delay1.set_delayed_samples(1)"
   ]
  },
  {
   "cell_type": "code",
   "execution_count": null,
   "metadata": {},
   "outputs": [],
   "source": [
    "# read and check delay samples\n",
    "\n",
    "delay0.get_delayed_samples()"
   ]
  },
  {
   "cell_type": "code",
   "execution_count": null,
   "metadata": {},
   "outputs": [],
   "source": [
    "# read and check delay milliseconds\n",
    "\n",
    "delayed_ms = delay0.get_delayed_ms()\n",
    "delayed_ms"
   ]
  },
  {
   "cell_type": "code",
   "execution_count": null,
   "metadata": {},
   "outputs": [],
   "source": [
    "# set delay milliseconds\n",
    "\n",
    "delay0.set_delayed_ms(delayed_ms * 2)"
   ]
  },
  {
   "cell_type": "code",
   "execution_count": null,
   "metadata": {},
   "outputs": [],
   "source": [
    "# read and check delay samples\n",
    "\n",
    "delay0.get_delayed_samples()"
   ]
  },
  {
   "cell_type": "code",
   "execution_count": null,
   "metadata": {},
   "outputs": [],
   "source": [
    "# read PEQ0's coefficients\n",
    "\n",
    "coeffs = param_eq_in0.get_parameters_values()\n",
    "coeffs"
   ]
  },
  {
   "cell_type": "code",
   "execution_count": null,
   "metadata": {},
   "outputs": [],
   "source": [
    "# set and check PEQ0's coefficients\n",
    "\n",
    "coeffs[2][1] = -1.0\n",
    "\n",
    "param_eq_in0.set_parameters_values(coeffs)\n",
    "param_eq_in0.get_parameters_values()"
   ]
  },
  {
   "cell_type": "code",
   "execution_count": null,
   "metadata": {},
   "outputs": [],
   "source": [
    "# reload from EEPROM, equivalent to soft-reset\n",
    "\n",
    "dsp.reload_from_eeprom()"
   ]
  }
 ],
 "metadata": {
  "kernelspec": {
   "display_name": "Python 3 (ipykernel)",
   "language": "python",
   "name": "python3"
  },
  "language_info": {
   "codemirror_mode": {
    "name": "ipython",
    "version": 3
   },
   "file_extension": ".py",
   "mimetype": "text/x-python",
   "name": "python",
   "nbconvert_exporter": "python",
   "pygments_lexer": "ipython3",
   "version": "3.8.12"
  }
 },
 "nbformat": 4,
 "nbformat_minor": 2
}
